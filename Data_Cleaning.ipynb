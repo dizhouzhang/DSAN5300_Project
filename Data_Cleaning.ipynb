{
 "cells": [
  {
   "cell_type": "code",
   "execution_count": 1,
   "metadata": {},
   "outputs": [
    {
     "name": "stderr",
     "output_type": "stream",
     "text": [
      "/var/folders/x1/tzn5_xnj79j6mrgx5h3grhw00000gn/T/ipykernel_75620/2505749828.py:1: DeprecationWarning: \n",
      "Pyarrow will become a required dependency of pandas in the next major release of pandas (pandas 3.0),\n",
      "(to allow more performant data types, such as the Arrow string type, and better interoperability with other libraries)\n",
      "but was not found to be installed on your system.\n",
      "If this would cause problems for you,\n",
      "please provide us feedback at https://github.com/pandas-dev/pandas/issues/54466\n",
      "        \n",
      "  import pandas as pd\n"
     ]
    }
   ],
   "source": [
    "import pandas as pd\n",
    "\n",
    "# Load the CSV files\n",
    "data_1920 = pd.read_csv('shots_laliga_1920.csv')\n",
    "data_2021 = pd.read_csv('shots_laliga_2021.csv')\n",
    "data_2122 = pd.read_csv('shots_laliga_2122.csv')\n",
    "\n",
    "# Add a new column to each dataframe to denote the season year\n",
    "data_1920['Year'] = '2019-2020'\n",
    "data_2021['Year'] = '2020-2021'\n",
    "data_2122['Year'] = '2021-2022'\n",
    "\n",
    "# Combine all dataframes into one\n",
    "combined_data_laliga = pd.concat([data_1920, data_2021, data_2122], ignore_index=True)"
   ]
  },
  {
   "cell_type": "code",
   "execution_count": 2,
   "metadata": {},
   "outputs": [],
   "source": [
    "# Load the CSV files\n",
    "epl_data_1920 = pd.read_csv('shots_premier_league_1920.csv')\n",
    "epl_data_2021 = pd.read_csv('shots_premier_league_2021.csv')\n",
    "epl_data_2122 = pd.read_csv('shots_premier_league_2122.csv')\n",
    "\n",
    "# Add a new column to each dataframe to denote the season year\n",
    "epl_data_1920['Year'] = '2019-2020'\n",
    "epl_data_2021['Year'] = '2020-2021'\n",
    "epl_data_2122['Year'] = '2021-2022'\n",
    "\n",
    "# Combine all dataframes into one\n",
    "combined_data_england = pd.concat([epl_data_1920, epl_data_2021, epl_data_2122], ignore_index=True)\n"
   ]
  },
  {
   "cell_type": "code",
   "execution_count": 3,
   "metadata": {},
   "outputs": [],
   "source": [
    "# Load the CSV files\n",
    "bdl_data_1920 = pd.read_csv('shots_bundesliga_1920.csv')\n",
    "bdl_data_2021 = pd.read_csv('shots_bundesliga_2021.csv')\n",
    "bdl_data_2122 = pd.read_csv('shots_bundesliga_2122.csv')\n",
    "\n",
    "# Add a new column to each dataframe to denote the season year\n",
    "bdl_data_1920['Year'] = '2019-2020'\n",
    "bdl_data_2021['Year'] = '2020-2021'\n",
    "bdl_data_2122['Year'] = '2021-2022'\n",
    "\n",
    "# Combine all dataframes into one\n",
    "combined_data_germany = pd.concat([bdl_data_1920, bdl_data_2021, bdl_data_2122], ignore_index=True)\n"
   ]
  },
  {
   "cell_type": "code",
   "execution_count": 4,
   "metadata": {},
   "outputs": [],
   "source": [
    "# Add a new column 'league' to each dataframe to denote the league origin\n",
    "combined_data_germany['league'] = 'germany'\n",
    "combined_data_england['league'] = 'england'\n",
    "combined_data_laliga['league'] = 'spain'\n",
    "\n",
    "# Combine all dataframes into one\n",
    "combined_data = pd.concat([combined_data_germany, combined_data_england, combined_data_laliga], ignore_index=True)"
   ]
  },
  {
   "cell_type": "code",
   "execution_count": 6,
   "metadata": {},
   "outputs": [],
   "source": [
    "\n",
    "import numpy as np\n",
    "# Filter out rows where the 'Result' column contains 'own goal'\n",
    "filtered_data = combined_data[combined_data['result'].str.lower() != 'own goal']\n",
    "\n",
    "# Adjust the 'Result' column to have only 'Goal' or 'No Goal'\n",
    "filtered_data['result'] = filtered_data['result'].apply(lambda x: 'Goal' if x.lower() == 'goal' else 'No Goal')\n",
    "\n",
    "# Define the dimensions of the football field in meters\n",
    "field_length = 105  # Length from goal to goal\n",
    "field_width = 68    # Width across the field\n",
    "\n",
    "# Calculate the shot distance\n",
    "# Convert the X and Y from percentages to meters\n",
    "# X represents the length and Y represents the width\n",
    "# The center of the goal line is at (0%, 50%)\n",
    "filtered_data['shot_distance'] = np.sqrt(\n",
    "    ((filtered_data['X'] - 50) * field_width / 100) ** 2 + (filtered_data['Y'] * field_length / 100) ** 2\n",
    ")\n",
    "\n",
    "# Define the dimensions of the football field and goal in meters\n",
    "field_width = 68    # Width across the field\n",
    "goal_width = 7.32   # Width of the goal\n",
    "\n",
    "# Define the function to calculate the angle\n",
    "def calculate_visible_angle(x, y):\n",
    "    # Convert percentages to meters\n",
    "    x_meters = (x / 100) * field_width\n",
    "    y_meters = (y / 100) * field_width\n",
    "    \n",
    "    # Distance from shot to each goal post\n",
    "    distance_to_post_left = np.sqrt((x_meters - (field_width / 2 - goal_width / 2))**2 + y_meters**2)\n",
    "    distance_to_post_right = np.sqrt((x_meters - (field_width / 2 + goal_width / 2))**2 + y_meters**2)\n",
    "    \n",
    "    # Angle to each post from the shot\n",
    "    angle_left = np.arctan((field_width / 2 - goal_width / 2) / y_meters)\n",
    "    angle_right = np.arctan((field_width / 2 + goal_width / 2) / y_meters)\n",
    "    \n",
    "    # Visible angle is the absolute difference between the two angles\n",
    "    visible_angle = np.abs(angle_right - angle_left)\n",
    "    \n",
    "    # Convert radians to degrees for readability\n",
    "    visible_angle_degrees = np.degrees(visible_angle)\n",
    "    \n",
    "    return visible_angle_degrees\n",
    "\n",
    "# Apply the function to calculate the visible shot angle\n",
    "filtered_data['angle_to_goal'] = filtered_data.apply(lambda row: calculate_visible_angle(row['X'], row['Y']), axis=1)\n",
    "\n",
    "# Create a new column for the total goals by adding home and away goals\n",
    "filtered_data['total_goals'] = filtered_data['h_goals'] + filtered_data['a_goals']\n",
    "\n",
    "# Define a function to determine the half based on the minute\n",
    "def determine_half(minute):\n",
    "    if minute <= 45:\n",
    "        return 1\n",
    "    else:\n",
    "        return 2\n",
    "\n",
    "# Apply the function to create a new 'half' column\n",
    "filtered_data['half'] = filtered_data['minute'].apply(determine_half)\n",
    "\n",
    "\n",
    "# Drop the specified columns\n",
    "filtered_data.drop(columns=['match_id', 'date', 'player_assisted'], inplace=True)\n",
    "\n",
    "# Save the combined dataframe to a new CSV file\n",
    "filtered_data.to_csv('final_project.csv', index=False)\n"
   ]
  },
  {
   "cell_type": "code",
   "execution_count": null,
   "metadata": {},
   "outputs": [],
   "source": []
  }
 ],
 "metadata": {
  "kernelspec": {
   "display_name": "Python 3",
   "language": "python",
   "name": "python3"
  },
  "language_info": {
   "codemirror_mode": {
    "name": "ipython",
    "version": 3
   },
   "file_extension": ".py",
   "mimetype": "text/x-python",
   "name": "python",
   "nbconvert_exporter": "python",
   "pygments_lexer": "ipython3",
   "version": "3.9.6"
  }
 },
 "nbformat": 4,
 "nbformat_minor": 2
}
